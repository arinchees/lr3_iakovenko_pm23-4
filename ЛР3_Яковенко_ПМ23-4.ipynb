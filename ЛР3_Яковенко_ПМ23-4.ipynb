{
 "cells": [
  {
   "cell_type": "markdown",
   "id": "e622c9a5-a9d6-4091-9c63-7aed7554fae9",
   "metadata": {},
   "source": [
    "**Упражнение 1. Движение изображения от клавиатуры.**"
   ]
  },
  {
   "cell_type": "markdown",
   "id": "6cc2882e-9be8-4576-909a-a2af58d65898",
   "metadata": {},
   "source": [
    "Начальный этап разработки игры аркады:\n",
    "- создать окно программы размерностью 800x600\n",
    "- разместить на окне программы фоновый рисунок\n",
    "- сделать движение ФОНА по стрелкам клавиатуры, используя переменные: текущая скорость перемещения и сдвиг фона"
   ]
  },
  {
   "cell_type": "code",
   "execution_count": 2,
   "id": "6f64809b-2f94-414a-bad8-d1be23d5c401",
   "metadata": {},
   "outputs": [
    {
     "name": "stdout",
     "output_type": "stream",
     "text": [
      "pygame 2.6.1 (SDL 2.28.4, Python 3.11.8)\n",
      "Hello from the pygame community. https://www.pygame.org/contribute.html\n"
     ]
    },
    {
     "name": "stderr",
     "output_type": "stream",
     "text": [
      "2025-03-24 20:35:59.355 python[53594:14961673] +[IMKClient subclass]: chose IMKClient_Modern\n",
      "2025-03-24 20:35:59.355 python[53594:14961673] +[IMKInputSession subclass]: chose IMKInputSession_Modern\n"
     ]
    }
   ],
   "source": [
    "import pygame\n",
    "import time\n",
    "\n",
    "pygame.init()\n",
    "# Глобальные переменные (настройки)\n",
    "window_width = 800\n",
    "window_height = 600\n",
    "fon='fon.png' # Изображение должно быть в том же каталоге, что и код на питоне\n",
    "\n",
    "# Запуск\n",
    "window = pygame.display.set_mode([window_width, window_height])\n",
    "pygame.display.set_caption('Игра v1.0') # установка надписи окна программы\n",
    "\n",
    "speed = 0 # текущая скорость перемещения\n",
    "sdvig_fona = 0 # сдвиг фона\n",
    "\n",
    "img1 = pygame.image.load(fon) # загрузка фона игры из файла\n",
    "back_fon = pygame.transform.scale(img1, (window_width, window_height))\n",
    "# размеры картинки back - те же, что и у окна\n",
    "\n",
    "running = True\n",
    "while running:\n",
    "    for event in pygame.event.get():\n",
    "        if event.type == pygame.QUIT: # пришло ли событие нажатие на крестик\n",
    "            running = False\n",
    "        if event.type == pygame.KEYDOWN:\n",
    "            if event.key == pygame.K_LEFT:\n",
    "                speed=5\n",
    "        if event.type == pygame.KEYUP:\n",
    "            if event.key == pygame.K_LEFT:\n",
    "                spped=0\n",
    "                \n",
    "    sdvig_fona = (sdvig_fona + speed) % window_width\n",
    "    window.blit(back_fon, (sdvig_fona, 0))\n",
    "    if sdvig_fona != 0:\n",
    "        window.blit(back_fon, (sdvig_fona - window_width, 0)) # рисуем такой же фон слева от сдвига\n",
    "        \n",
    "    pygame.display.update()\n",
    "    # обновились содержимое окна, теперь видно последнее состояние экранной поверхности\n",
    "    time.sleep(0.02)\n",
    "    \n",
    "pygame.quit() # закрыть окно крестиком"
   ]
  },
  {
   "cell_type": "markdown",
   "id": "5ec24fe8-4c93-4df0-816b-2659c1af8bba",
   "metadata": {},
   "source": [
    "В этом коде не представлено движение фона влево при нажатии на стрелку «Вправо». На основе представленного кода, создайте такое движение"
   ]
  },
  {
   "cell_type": "code",
   "execution_count": 3,
   "id": "5c4440eb-3e77-44dc-9502-d190d77e7738",
   "metadata": {},
   "outputs": [
    {
     "name": "stdout",
     "output_type": "stream",
     "text": [
      "pygame 2.6.1 (SDL 2.28.4, Python 3.11.8)\n",
      "Hello from the pygame community. https://www.pygame.org/contribute.html\n"
     ]
    },
    {
     "name": "stderr",
     "output_type": "stream",
     "text": [
      "2025-03-24 20:37:01.743 python[55760:15023491] +[IMKClient subclass]: chose IMKClient_Modern\n",
      "2025-03-24 20:37:01.743 python[55760:15023491] +[IMKInputSession subclass]: chose IMKInputSession_Modern\n"
     ]
    }
   ],
   "source": [
    "import pygame\n",
    "import time\n",
    "\n",
    "pygame.init()\n",
    "\n",
    "window_width = 800\n",
    "window_height = 600\n",
    "fon = 'fon.png'\n",
    "\n",
    "window = pygame.display.set_mode([window_width, window_height])\n",
    "pygame.display.set_caption('Игра v1.1')\n",
    "\n",
    "speed = 0  \n",
    "sdvig_fona = 0  \n",
    "\n",
    "img1 = pygame.image.load(fon)\n",
    "back_fon = pygame.transform.scale(img1, (window_width, window_height))\n",
    "\n",
    "running = True\n",
    "while running:\n",
    "    for event in pygame.event.get():\n",
    "        if event.type == pygame.QUIT:\n",
    "            running = False\n",
    "        if event.type == pygame.KEYDOWN:\n",
    "            if event.key == pygame.K_LEFT:\n",
    "                speed = 5\n",
    "            elif event.key == pygame.K_RIGHT:\n",
    "                speed = -5\n",
    "        if event.type == pygame.KEYUP:\n",
    "            if event.key in [pygame.K_LEFT, pygame.K_RIGHT]:\n",
    "                speed = 0\n",
    "\n",
    "    sdvig_fona = (sdvig_fona + speed) % window_width\n",
    "    window.blit(back_fon, (sdvig_fona, 0))\n",
    "    if sdvig_fona != 0:\n",
    "        window.blit(back_fon, (sdvig_fona - window_width, 0))\n",
    "    \n",
    "    pygame.display.update()\n",
    "    time.sleep(0.02)\n",
    "\n",
    "pygame.quit()"
   ]
  },
  {
   "cell_type": "markdown",
   "id": "b78dfff6-cf68-4721-90ab-0fa751e9223b",
   "metadata": {},
   "source": [
    "**Упражнение 2. Создание спрайтов в парадигме ООП.**"
   ]
  },
  {
   "cell_type": "markdown",
   "id": "08ca53f3-c556-4580-b30a-c4df74050397",
   "metadata": {},
   "source": [
    "Второй этап разработки игры аркады:\n",
    "- создать спрайт, используя class Player(pygame.sprite.Sprite)\n",
    "- сделать движение спрайта по стрелкам клавиатуры (вверх, вниз, вправо, влево)\n",
    "- сделать движение ФОНА при достижении спрайта границ слева и справа.\n"
   ]
  },
  {
   "cell_type": "code",
   "execution_count": 1,
   "id": "570233cb-79e0-4347-a7f0-e199dbad530b",
   "metadata": {},
   "outputs": [
    {
     "name": "stdout",
     "output_type": "stream",
     "text": [
      "pygame 2.6.1 (SDL 2.28.4, Python 3.11.8)\n",
      "Hello from the pygame community. https://www.pygame.org/contribute.html\n"
     ]
    },
    {
     "name": "stderr",
     "output_type": "stream",
     "text": [
      "2025-03-24 21:11:02.644 python[56792:15058737] +[IMKClient subclass]: chose IMKClient_Modern\n",
      "2025-03-24 21:11:02.644 python[56792:15058737] +[IMKInputSession subclass]: chose IMKInputSession_Modern\n"
     ]
    }
   ],
   "source": [
    "import pygame\n",
    "pygame.init()\n",
    "\n",
    "window_width = 800\n",
    "window_height = 600\n",
    "fon = 'fon.png'\n",
    "player_img = '1.png'\n",
    "\n",
    "window = pygame.display.set_mode([window_width, window_height])\n",
    "pygame.display.set_caption('Игра v2.0')\n",
    "\n",
    "bg_image = pygame.image.load(fon)\n",
    "bg_image = pygame.transform.scale(bg_image, (window_width, window_height))\n",
    "bg_x = 0\n",
    "\n",
    "class Player(pygame.sprite.Sprite):\n",
    "    def __init__(self):\n",
    "        super().__init__()\n",
    "        self.image = pygame.image.load(player_img)\n",
    "        self.image = pygame.transform.scale(self.image, (50, 50))\n",
    "        self.rect = self.image.get_rect()\n",
    "        self.rect.center = (window_width // 2, window_height // 2)\n",
    "        self.speed_x = 0\n",
    "        self.speed_y = 0\n",
    "\n",
    "    def update(self):\n",
    "        global bg_x\n",
    "        self.rect.x += self.speed_x\n",
    "        self.rect.y += self.speed_y\n",
    "\n",
    "        # Границы экрана\n",
    "        if self.rect.left < 0:\n",
    "            self.rect.left = 0\n",
    "            bg_x += 5  # Двигаем фон вправо\n",
    "        if self.rect.right > window_width:\n",
    "            self.rect.right = window_width\n",
    "            bg_x -= 5  # Двигаем фон влево\n",
    "        if self.rect.top < 0:\n",
    "            self.rect.top = 0\n",
    "        if self.rect.bottom > window_height:\n",
    "            self.rect.bottom = window_height\n",
    "\n",
    "# Создание объекта игрока\n",
    "player = Player()\n",
    "all_sprites = pygame.sprite.Group()\n",
    "all_sprites.add(player)\n",
    "\n",
    "# Игровой цикл\n",
    "running = True\n",
    "while running:\n",
    "    for event in pygame.event.get():\n",
    "        if event.type == pygame.QUIT:\n",
    "            running = False\n",
    "        if event.type == pygame.KEYDOWN:\n",
    "            if event.key == pygame.K_LEFT:\n",
    "                player.speed_x = -5\n",
    "            elif event.key == pygame.K_RIGHT:\n",
    "                player.speed_x = 5\n",
    "            elif event.key == pygame.K_UP:\n",
    "                player.speed_y = -5\n",
    "            elif event.key == pygame.K_DOWN:\n",
    "                player.speed_y = 5\n",
    "        if event.type == pygame.KEYUP:\n",
    "            if event.key in [pygame.K_LEFT, pygame.K_RIGHT]:\n",
    "                player.speed_x = 0\n",
    "            if event.key in [pygame.K_UP, pygame.K_DOWN]:\n",
    "                player.speed_y = 0\n",
    "\n",
    "    # Очистка экрана перед отрисовкой нового кадра\n",
    "    window.fill((0, 0, 0))  # Черный фон для очистки экрана\n",
    "\n",
    "    # Обновление спрайтов\n",
    "    all_sprites.update()\n",
    "\n",
    "    # Отрисовка фона и спрайтов\n",
    "    window.blit(bg_image, (bg_x, 0))\n",
    "    if bg_x < 0:\n",
    "        window.blit(bg_image, (bg_x + window_width, 0))\n",
    "\n",
    "    all_sprites.draw(window)\n",
    "    pygame.display.flip()\n",
    "    pygame.time.delay(20)\n",
    "\n",
    "pygame.quit()"
   ]
  },
  {
   "cell_type": "markdown",
   "id": "2045b7ec-b5e4-4505-b384-afb6226cfefe",
   "metadata": {},
   "source": [
    "**Упражнение 3. Создание группы спрайтов. Задача коллизии объектов.**"
   ]
  },
  {
   "cell_type": "markdown",
   "id": "1d499beb-3111-4539-bcee-a070b0eff4d0",
   "metadata": {},
   "source": [
    "Конечный этап разработки игры аркады:\n",
    "- создать два дополнительных спрайта и объединить все спрайты программы в группу спрайтов.\n",
    "- сделать движение дополнительных спрайтов\n",
    "- создать объект стрела с привязкой к главному спрайту\n",
    "- при нажатии на пробел стрела должна лететь\n",
    "- при коллизии объектов (стрела и дополнительный спрайт) должны исчезать и стрела и дополнительный спрайт.\n",
    "  \n",
    "_список всех персонажей игры и процесс создания группы спрайтов:_\n",
    "\n",
    "- all_sprites = pygame.sprite.Group()\n",
    "- all_sprites.add(hero)\n",
    "- all_sprites.add(hero2)\n",
    "- all_sprites.add(hero3)\n"
   ]
  },
  {
   "cell_type": "code",
   "execution_count": 1,
   "id": "021c9c20-4ccd-48d1-9c02-e61e5a3c9f1a",
   "metadata": {},
   "outputs": [
    {
     "name": "stdout",
     "output_type": "stream",
     "text": [
      "pygame 2.6.1 (SDL 2.28.4, Python 3.11.8)\n",
      "Hello from the pygame community. https://www.pygame.org/contribute.html\n"
     ]
    },
    {
     "name": "stderr",
     "output_type": "stream",
     "text": [
      "2025-03-24 21:18:14.489 python[57024:15065635] +[IMKClient subclass]: chose IMKClient_Modern\n",
      "2025-03-24 21:18:14.489 python[57024:15065635] +[IMKInputSession subclass]: chose IMKInputSession_Modern\n"
     ]
    }
   ],
   "source": [
    "import pygame\n",
    "pygame.init()\n",
    "\n",
    "window_width = 800\n",
    "window_height = 600\n",
    "\n",
    "window = pygame.display.set_mode([window_width, window_height])\n",
    "pygame.display.set_caption('Игра v3.0')\n",
    "\n",
    "background = pygame.image.load('fon.png')  \n",
    "background = pygame.transform.scale(background, (window_width, window_height))  # Подгоняем под размер окна\n",
    "\n",
    "hero_img = pygame.image.load('1.png')\n",
    "hero2_img = pygame.image.load('2.png')\n",
    "hero3_img = pygame.image.load('3.png')\n",
    "\n",
    "class Player(pygame.sprite.Sprite):\n",
    "    def __init__(self):\n",
    "        super().__init__()\n",
    "        self.image = pygame.transform.scale(hero_img, (50, 50))\n",
    "        self.rect = self.image.get_rect()\n",
    "        self.rect.center = (window_width // 2, window_height - 60)\n",
    "        self.speed_x = 0\n",
    "\n",
    "    def update(self):\n",
    "        self.rect.x += self.speed_x\n",
    "        if self.rect.left < 0:\n",
    "            self.rect.left = 0\n",
    "        if self.rect.right > window_width:\n",
    "            self.rect.right = window_width\n",
    "\n",
    "class Enemy(pygame.sprite.Sprite):\n",
    "    def __init__(self, x, y, image):\n",
    "        super().__init__()\n",
    "        self.image = pygame.transform.scale(image, (50, 50))\n",
    "        self.rect = self.image.get_rect()\n",
    "        self.rect.topleft = (x, y)\n",
    "        self.speed_y = 2  #вниз движ\n",
    "\n",
    "    def update(self):\n",
    "        self.rect.y += self.speed_y\n",
    "        if self.rect.top > window_height:\n",
    "            self.rect.bottom = 0  #сверху падает\n",
    "\n",
    "# Класс стрелы\n",
    "class Arrow(pygame.sprite.Sprite):\n",
    "    def __init__(self, x, y):\n",
    "        super().__init__()\n",
    "        self.image = pygame.Surface((10, 30))\n",
    "        self.image.fill((255, 0, 0))  #стрелочка красная\n",
    "        self.rect = self.image.get_rect()\n",
    "        self.rect.center = (x, y)\n",
    "        self.speed_y = -8  #это сверху\n",
    "\n",
    "    def update(self):\n",
    "        self.rect.y += self.speed_y\n",
    "        if self.rect.bottom < 0:\n",
    "            self.kill()  \n",
    "\n",
    "player = Player()\n",
    "enemy1 = Enemy(200, 100, hero2_img)\n",
    "enemy2 = Enemy(400, 150, hero3_img)\n",
    "\n",
    "all_sprites = pygame.sprite.Group()\n",
    "enemies = pygame.sprite.Group()\n",
    "arrows = pygame.sprite.Group()\n",
    "\n",
    "all_sprites.add(player, enemy1, enemy2)\n",
    "enemies.add(enemy1, enemy2)\n",
    "\n",
    "running = True\n",
    "while running:\n",
    "    for event in pygame.event.get():\n",
    "        if event.type == pygame.QUIT:\n",
    "            running = False\n",
    "        if event.type == pygame.KEYDOWN:\n",
    "            if event.key == pygame.K_LEFT:\n",
    "                player.speed_x = -5\n",
    "            elif event.key == pygame.K_RIGHT:\n",
    "                player.speed_x = 5\n",
    "            elif event.key == pygame.K_SPACE:\n",
    "                arrow = Arrow(player.rect.centerx, player.rect.top)\n",
    "                all_sprites.add(arrow)\n",
    "                arrows.add(arrow)\n",
    "        if event.type == pygame.KEYUP:\n",
    "            if event.key in [pygame.K_LEFT, pygame.K_RIGHT]:\n",
    "                player.speed_x = 0\n",
    "\n",
    "    all_sprites.update()\n",
    "\n",
    "    for arrow in arrows:\n",
    "        hits = pygame.sprite.spritecollide(arrow, enemies, True)  # если true, то удаляем врага\n",
    "        if hits:\n",
    "            arrow.kill()\n",
    "\n",
    "    window.blit(background, (0, 0))\n",
    "    all_sprites.draw(window)  \n",
    "    pygame.display.flip()\n",
    "    pygame.time.delay(20)\n",
    "\n",
    "pygame.quit()"
   ]
  },
  {
   "cell_type": "code",
   "execution_count": null,
   "id": "0298025a-5c48-42f6-b27a-9fe710b1faa8",
   "metadata": {},
   "outputs": [],
   "source": []
  }
 ],
 "metadata": {
  "kernelspec": {
   "display_name": "Python 3 (ipykernel)",
   "language": "python",
   "name": "python3"
  },
  "language_info": {
   "codemirror_mode": {
    "name": "ipython",
    "version": 3
   },
   "file_extension": ".py",
   "mimetype": "text/x-python",
   "name": "python",
   "nbconvert_exporter": "python",
   "pygments_lexer": "ipython3",
   "version": "3.11.8"
  }
 },
 "nbformat": 4,
 "nbformat_minor": 5
}
